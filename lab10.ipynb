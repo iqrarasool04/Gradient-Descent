{
 "cells": [
  {
   "cell_type": "markdown",
   "metadata": {},
   "source": [
    "## Setup"
   ]
  },
  {
   "cell_type": "code",
   "execution_count": 1,
   "metadata": {},
   "outputs": [],
   "source": [
    "import torch\n",
    "from torch import tensor\n",
    "import ipywidgets as widgets\n",
    "import matplotlib.pyplot as plt\n",
    "%matplotlib inline"
   ]
  },
  {
   "cell_type": "markdown",
   "metadata": {},
   "source": [
    "## Task"
   ]
  },
  {
   "cell_type": "markdown",
   "metadata": {},
   "source": [
    "Suppose we have a dataset with just a single feature `x` and continuous outcome variable `y`.\n",
    "\n",
    "In general we're going to be faced with a dataset with an unknown and probably nonlinear relationship. But for now let's use a simple dataset with a known linear relationship:"
   ]
  },
  {
   "cell_type": "code",
   "execution_count": 2,
   "metadata": {},
   "outputs": [
    {
     "data": {
      "image/png": "[encoded data removed]",
      "text/plain": [
       "<Figure size 640x480 with 1 Axes>"
      ]
     },
     "metadata": {},
     "output_type": "display_data"
    }
   ],
   "source": [
    "true_weights = 4.0\n",
    "true_bias = -1.0\n",
    "\n",
    "# Make the randomness consistent\n",
    "torch.manual_seed(0)\n",
    "# Use random x values\n",
    "x = torch.rand(100)\n",
    "# Generate random noise, same shape as *x*, that has some outliers.\n",
    "noise = torch.distributions.studentT.StudentT(2.0).sample(x.shape)\n",
    "# For a simpler variant, use  torch.randn_like(x).\n",
    "#print(f\"Noise mean: {noise.mean()}, noise variance {noise.var()}\")\n",
    "# Generate true y values \n",
    "y_true = true_weights * x + noise + true_bias\n",
    "# Make a scatterplot. The semicolon at the end says to ignore the return value.\n",
    "plt.scatter(x, y_true);"
   ]
  },
  {
   "cell_type": "code",
   "execution_count": 3,
   "metadata": {},
   "outputs": [],
   "source": [
    "bias = 0.0"
   ]
  },
  {
   "cell_type": "code",
   "execution_count": 15,
   "metadata": {},
   "outputs": [
    {
     "data": {
      "application/vnd.jupyter.widget-view+json": {
       "model_id": "8263442f007d4bb18c3b9e0595e7b2ef",
       "version_major": 2,
       "version_minor": 0
      },
      "text/plain": [
       "interactive(children=(FloatSlider(value=0.0, description='slope', max=5.0, min=-5.0), Output()), _dom_classes=…"
      ]
     },
     "metadata": {},
     "output_type": "display_data"
    }
   ],
   "source": [
    "@widgets.interact(slope=(-5.0, 5.0))\n",
    "def plot_linreg(slope):\n",
    "    y_pred = slope * x + bias\n",
    "    plt.scatter(x, y_true)\n",
    "    plt.plot(x, y_pred, 'r')\n",
    "    resid = y_true - y_pred\n",
    "    mse = torch.mean((y_true-y_pred)**2).item()\n",
    "    mae = torch.mean(torch.abs(y_true-y_pred)).item()\n",
    "    print(f\"MSE: {mse:.2f}, MAE: {mae:.2f}\")"
   ]
  },
  {
   "cell_type": "markdown",
   "metadata": {},
   "source": [
    "- Slope that minimizes MSE: <CHECK FOR YOUR OWN CODE>\n",
    "- Slope that minimizes MAE: <CHECK FOR YOUR OWN CODE>\n",
    "- Description of the difference: <CHECK FOR YOUR OWN CODE>"
   ]
  },
  {
   "cell_type": "markdown",
   "metadata": {},
   "source": [
    "### Gradient\n"
   ]
  },
  {
   "cell_type": "code",
   "execution_count": 17,
   "metadata": {},
   "outputs": [
    {
     "name": "stdout",
     "output_type": "stream",
     "text": [
      "Slope: 1.0 MSE: 4.33\n",
      "Slope: 1.5 MSE: 4.28\n",
      "Slope: 2.0 MSE: 4.39\n"
     ]
    }
   ],
   "source": [
    "def calculate_mse(slope, x, y_true, bias=0.0):\n",
    "    y_pred = slope * x + bias\n",
    "    mse = torch.mean((y_true - y_pred)**2).item()\n",
    "    return mse\n",
    "\n",
    "slope_values = [1.0, 1.5, 2.0]\n",
    "\n",
    "for slope in slope_values:\n",
    "    mse_value = calculate_mse(slope, x, y_true)\n",
    "    print(f\"For slope {slope}, the Mean Squared Error is: {mse_value:.2f}\")"
   ]
  },
  {
   "cell_type": "code",
   "execution_count": 19,
   "metadata": {},
   "outputs": [
    {
     "name": "stdout",
     "output_type": "stream",
     "text": [
      "Numerical Gradient (x0 = 0.0): -0.91\n",
      "Numerical Gradient (x0 = 1.4): 0.00\n"
     ]
    }
   ],
   "source": [
    "eps = 1e-3\n",
    "x0_1 = 0.0\n",
    "numerical_gradient_1 = (calculate_mse(x0_1 + eps, x, y_true) - calculate_mse(x0_1, x, y_true)) / eps\n",
    "print(f\"For x0 = {x0_1}, Numerical Gradient: {numerical_gradient_1:.2f}\")\n",
    "\n",
    "x0_2 = 1.40\n",
    "numerical_gradient_2 = (calculate_mse(x0_2 + eps, x, y_true) - calculate_mse(x0_2, x, y_true)) / eps\n",
    "print(f\"For x0 = {x0_2}, Numerical Gradient: {numerical_gradient_2:.2f}\")\n"
   ]
  },
  {
   "cell_type": "markdown",
   "metadata": {},
   "source": [
    "### Gradient Descent"
   ]
  },
  {
   "cell_type": "code",
   "execution_count": 20,
   "metadata": {},
   "outputs": [
    {
     "name": "stdout",
     "output_type": "stream",
     "text": [
      "Initial Slope: 0.0, Initial Loss: 4.91\n",
      "Updated Slope (Gradient Ascent): -0.01\n",
      "Updated Loss (Gradient Ascent): 4.92\n"
     ]
    }
   ],
   "source": [
    "initial_slope_ascent = 0.0\n",
    "\n",
    "initial_loss_ascent = calculate_mse(initial_slope_ascent, x, y_true)\n",
    "print(f\"Initial Slope: {initial_slope_ascent}, Initial Loss: {initial_loss_ascent:.2f}\")\n",
    "\n",
    "gradient_ascent = (calculate_mse(initial_slope_ascent + eps, x, y_true) - initial_loss_ascent) / eps\n",
    "slope_ascent = initial_slope_ascent + 0.01 * gradient_ascent\n",
    "print(f\"Updated Slope (Gradient Ascent): {slope_ascent:.2f}\")\n",
    "\n",
    "updated_loss_ascent = calculate_mse(slope_ascent, x, y_true)\n",
    "print(f\"Updated Loss (Gradient Ascent): {updated_loss_ascent:.2f}\")"
   ]
  },
  {
   "cell_type": "code",
   "execution_count": 22,
   "metadata": {},
   "outputs": [
    {
     "name": "stdout",
     "output_type": "stream",
     "text": [
      "Initial Slope: 0.0, Initial Loss: 4.91\n",
      "Updated Slope (Gradient Descent): 0.01\n",
      "Updated Loss (Gradient Descent): 4.90\n"
     ]
    }
   ],
   "source": [
    "initial_slope_descent = 0.0\n",
    "\n",
    "initial_loss_descent = calculate_mse(initial_slope_descent, x, y_true)\n",
    "print(f\"Initial Slope: {initial_slope_descent}, Initial Loss: {initial_loss_descent:.2f}\")\n",
    "\n",
    "gradient_descent = (initial_loss_descent - calculate_mse(initial_slope_descent - eps, x, y_true)) / eps\n",
    "slope_descent = initial_slope_descent - 0.01 * gradient_descent\n",
    "print(f\"Updated Slope (Gradient Descent): {slope_descent:.2f}\")\n",
    "\n",
    "updated_loss_descent = calculate_mse(slope_descent, x, y_true)\n",
    "print(f\"Updated Loss (Gradient Descent): {updated_loss_descent:.2f}\")"
   ]
  }
 ],
 "metadata": {
  "kernelspec": {
   "display_name": "Python 3",
   "language": "python",
   "name": "python3"
  },
  "language_info": {
   "codemirror_mode": {
    "name": "ipython",
    "version": 3
   },
   "file_extension": ".py",
   "mimetype": "text/x-python",
   "name": "python",
   "nbconvert_exporter": "python",
   "pygments_lexer": "ipython3",
   "version": "3.11.5"
  }
 },
 "nbformat": 4,
 "nbformat_minor": 4
}
